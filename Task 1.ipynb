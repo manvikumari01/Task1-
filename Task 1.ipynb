{
 "cells": [
  {
   "cell_type": "markdown",
   "id": "f152c675",
   "metadata": {},
   "source": [
    "## MANVI KUMARI"
   ]
  },
  {
   "cell_type": "markdown",
   "id": "8d1b485b",
   "metadata": {},
   "source": [
    "### Data science and business analytics task 1\n",
    "### predicting the percentage of a student based on study hours "
   ]
  },
  {
   "cell_type": "code",
   "execution_count": null,
   "id": "db39d4af",
   "metadata": {},
   "outputs": [],
   "source": [
    "\n",
    "\n",
    "#Importing all the required Libraries\n",
    "import numpy as np\n",
    "import pandas as pd\n",
    "import matplotlib.pyplot as plt\n",
    "from sklearn.model_selection import train_test_split\n",
    "from sklearn.linear_model import LinearRegression\n",
    "from sklearn.metrics import mean_squared_error\n",
    "from sklearn.metrics import r2_score\n"
   ]
  },
  {
   "cell_type": "code",
   "execution_count": 20,
   "id": "f5237a20",
   "metadata": {
    "scrolled": false
   },
   "outputs": [
    {
     "name": "stdout",
     "output_type": "stream",
     "text": [
      "Data has been successfully imported\n"
     ]
    },
    {
     "data": {
      "text/html": [
       "<div>\n",
       "<style scoped>\n",
       "    .dataframe tbody tr th:only-of-type {\n",
       "        vertical-align: middle;\n",
       "    }\n",
       "\n",
       "    .dataframe tbody tr th {\n",
       "        vertical-align: top;\n",
       "    }\n",
       "\n",
       "    .dataframe thead th {\n",
       "        text-align: right;\n",
       "    }\n",
       "</style>\n",
       "<table border=\"1\" class=\"dataframe\">\n",
       "  <thead>\n",
       "    <tr style=\"text-align: right;\">\n",
       "      <th></th>\n",
       "      <th>Hours</th>\n",
       "      <th>Scores</th>\n",
       "    </tr>\n",
       "  </thead>\n",
       "  <tbody>\n",
       "    <tr>\n",
       "      <th>0</th>\n",
       "      <td>2.5</td>\n",
       "      <td>21</td>\n",
       "    </tr>\n",
       "    <tr>\n",
       "      <th>1</th>\n",
       "      <td>5.1</td>\n",
       "      <td>47</td>\n",
       "    </tr>\n",
       "    <tr>\n",
       "      <th>2</th>\n",
       "      <td>3.2</td>\n",
       "      <td>27</td>\n",
       "    </tr>\n",
       "    <tr>\n",
       "      <th>3</th>\n",
       "      <td>8.5</td>\n",
       "      <td>75</td>\n",
       "    </tr>\n",
       "    <tr>\n",
       "      <th>4</th>\n",
       "      <td>3.5</td>\n",
       "      <td>30</td>\n",
       "    </tr>\n",
       "    <tr>\n",
       "      <th>5</th>\n",
       "      <td>1.5</td>\n",
       "      <td>20</td>\n",
       "    </tr>\n",
       "    <tr>\n",
       "      <th>6</th>\n",
       "      <td>9.2</td>\n",
       "      <td>88</td>\n",
       "    </tr>\n",
       "    <tr>\n",
       "      <th>7</th>\n",
       "      <td>5.5</td>\n",
       "      <td>60</td>\n",
       "    </tr>\n",
       "    <tr>\n",
       "      <th>8</th>\n",
       "      <td>8.3</td>\n",
       "      <td>81</td>\n",
       "    </tr>\n",
       "    <tr>\n",
       "      <th>9</th>\n",
       "      <td>2.7</td>\n",
       "      <td>25</td>\n",
       "    </tr>\n",
       "    <tr>\n",
       "      <th>10</th>\n",
       "      <td>7.7</td>\n",
       "      <td>85</td>\n",
       "    </tr>\n",
       "    <tr>\n",
       "      <th>11</th>\n",
       "      <td>5.9</td>\n",
       "      <td>62</td>\n",
       "    </tr>\n",
       "    <tr>\n",
       "      <th>12</th>\n",
       "      <td>4.5</td>\n",
       "      <td>41</td>\n",
       "    </tr>\n",
       "    <tr>\n",
       "      <th>13</th>\n",
       "      <td>3.3</td>\n",
       "      <td>42</td>\n",
       "    </tr>\n",
       "    <tr>\n",
       "      <th>14</th>\n",
       "      <td>1.1</td>\n",
       "      <td>17</td>\n",
       "    </tr>\n",
       "    <tr>\n",
       "      <th>15</th>\n",
       "      <td>8.9</td>\n",
       "      <td>95</td>\n",
       "    </tr>\n",
       "    <tr>\n",
       "      <th>16</th>\n",
       "      <td>2.5</td>\n",
       "      <td>30</td>\n",
       "    </tr>\n",
       "    <tr>\n",
       "      <th>17</th>\n",
       "      <td>1.9</td>\n",
       "      <td>24</td>\n",
       "    </tr>\n",
       "    <tr>\n",
       "      <th>18</th>\n",
       "      <td>6.1</td>\n",
       "      <td>67</td>\n",
       "    </tr>\n",
       "    <tr>\n",
       "      <th>19</th>\n",
       "      <td>7.4</td>\n",
       "      <td>69</td>\n",
       "    </tr>\n",
       "    <tr>\n",
       "      <th>20</th>\n",
       "      <td>2.7</td>\n",
       "      <td>30</td>\n",
       "    </tr>\n",
       "    <tr>\n",
       "      <th>21</th>\n",
       "      <td>4.8</td>\n",
       "      <td>54</td>\n",
       "    </tr>\n",
       "    <tr>\n",
       "      <th>22</th>\n",
       "      <td>3.8</td>\n",
       "      <td>35</td>\n",
       "    </tr>\n",
       "    <tr>\n",
       "      <th>23</th>\n",
       "      <td>6.9</td>\n",
       "      <td>76</td>\n",
       "    </tr>\n",
       "    <tr>\n",
       "      <th>24</th>\n",
       "      <td>7.8</td>\n",
       "      <td>86</td>\n",
       "    </tr>\n",
       "  </tbody>\n",
       "</table>\n",
       "</div>"
      ],
      "text/plain": [
       "    Hours  Scores\n",
       "0     2.5      21\n",
       "1     5.1      47\n",
       "2     3.2      27\n",
       "3     8.5      75\n",
       "4     3.5      30\n",
       "5     1.5      20\n",
       "6     9.2      88\n",
       "7     5.5      60\n",
       "8     8.3      81\n",
       "9     2.7      25\n",
       "10    7.7      85\n",
       "11    5.9      62\n",
       "12    4.5      41\n",
       "13    3.3      42\n",
       "14    1.1      17\n",
       "15    8.9      95\n",
       "16    2.5      30\n",
       "17    1.9      24\n",
       "18    6.1      67\n",
       "19    7.4      69\n",
       "20    2.7      30\n",
       "21    4.8      54\n",
       "22    3.8      35\n",
       "23    6.9      76\n",
       "24    7.8      86"
      ]
     },
     "execution_count": 20,
     "metadata": {},
     "output_type": "execute_result"
    }
   ],
   "source": [
    "#'importing data set and visualizing Data\n",
    "df=pd.read_csv('https://raw.githubusercontent.com/AdiPersonalWorks/Random/master/student_scores%20-%20student_scores.csv')\n",
    "print('Data has been successfully imported')\n",
    "df"
   ]
  },
  {
   "cell_type": "markdown",
   "id": "4ce299d8",
   "metadata": {},
   "source": [
    "Here, we have Data of 25 students-study hours and score achieved.\n",
    "we will plot the data so that we can roughly find relationship between study hours and scores."
   ]
  },
  {
   "cell_type": "code",
   "execution_count": 21,
   "id": "97654775",
   "metadata": {
    "scrolled": true
   },
   "outputs": [
    {
     "data": {
      "image/png": "[encoded data removed]",
      "text/plain": [
       "<Figure size 640x480 with 1 Axes>"
      ]
     },
     "metadata": {},
     "output_type": "display_data"
    }
   ],
   "source": [
    "#plotting the data using Matplotlib Library\n",
    "df.plot(x='Hours',y='Scores', style='o',color='c')\n",
    "plt.title('Relationship between Study Hours and Score')\n",
    "plt.xlabel('Study Hours')\n",
    "plt.ylabel('Score')\n",
    "plt.show()"
   ]
  },
  {
   "cell_type": "markdown",
   "id": "375d4146",
   "metadata": {},
   "source": [
    "##### we can clearly observe that there is a positive linear relationship between study hours and score."
   ]
  },
  {
   "cell_type": "markdown",
   "id": "79d6d50c",
   "metadata": {},
   "source": [
    "### Preparing Data"
   ]
  },
  {
   "cell_type": "markdown",
   "id": "e0ca5c29",
   "metadata": {},
   "source": [
    "##### Divide the data into train and test dataset."
   ]
  },
  {
   "cell_type": "code",
   "execution_count": 31,
   "id": "0c880810",
   "metadata": {},
   "outputs": [],
   "source": [
    "#using train_test_spilt from scikit- Learn library\n",
    "x=df.drop('Scores',axis=1)\n",
    "y=df['Scores']\n",
    "\n",
    "train_x,test_x,train_y,test_y=train_test_split(x,y,test_size=0.2,random_state=123)"
   ]
  },
  {
   "cell_type": "markdown",
   "id": "40691497",
   "metadata": {},
   "source": [
    "### Training the Algorithm"
   ]
  },
  {
   "cell_type": "markdown",
   "id": "b8875b63",
   "metadata": {},
   "source": [
    "#### Now, we fit 80% of our data as training data set into the linear regression algorithm"
   ]
  },
  {
   "cell_type": "code",
   "execution_count": 32,
   "id": "1a9dbb20",
   "metadata": {},
   "outputs": [
    {
     "name": "stdout",
     "output_type": "stream",
     "text": [
      "Fitting the data into Linear Regression algorithm is complete\n"
     ]
    }
   ],
   "source": [
    "lin= LinearRegression()\n",
    "lin.fit(train_x,train_y)\n",
    "\n",
    "print('Fitting the data into Linear Regression algorithm is complete')\n"
   ]
  },
  {
   "cell_type": "code",
   "execution_count": 33,
   "id": "39448494",
   "metadata": {},
   "outputs": [
    {
     "data": {
      "image/png": "[encoded data removed]",
      "text/plain": [
       "<Figure size 640x480 with 1 Axes>"
      ]
     },
     "metadata": {},
     "output_type": "display_data"
    }
   ],
   "source": [
    "#the regression line (y=a+bx)\n",
    "line= lin.intercept_+lin.coef_*train_x\n",
    "\n",
    "#plotting the scatter plot with regression line \n",
    "plt.scatter(train_x,train_y)\n",
    "plt.plot(train_x, line)\n",
    "plt.title('percentage score of Student based on their study hours (80% randomly chossen)')\n",
    "plt.xlabel('Study hours')\n",
    "plt.ylabel('Scores')\n",
    "plt.show()"
   ]
  },
  {
   "cell_type": "code",
   "execution_count": 34,
   "id": "e551c959",
   "metadata": {},
   "outputs": [
    {
     "data": {
      "image/png": "[encoded data removed]",
      "text/plain": [
       "<Figure size 640x480 with 1 Axes>"
      ]
     },
     "metadata": {},
     "output_type": "display_data"
    }
   ],
   "source": [
    "#plotting The regression line for test data\n",
    "line2= line= lin.intercept_+lin.coef_*test_x\n",
    "\n",
    "plt.scatter(test_x,test_y)\n",
    "plt.plot(test_x,line)\n",
    "plt.title('percentage score of student based on their study hours (Testing Dataset)')\n",
    "plt.xlabel('Study Hours')\n",
    "plt.ylabel('Scores')\n",
    "plt.show()"
   ]
  },
  {
   "cell_type": "markdown",
   "id": "cf71685d",
   "metadata": {},
   "source": [
    "### Projection of Percentage Score of Students"
   ]
  },
  {
   "cell_type": "code",
   "execution_count": 35,
   "id": "85a0a365",
   "metadata": {},
   "outputs": [
    {
     "name": "stdout",
     "output_type": "stream",
     "text": [
      "    Hours\n",
      "5     1.5\n",
      "21    4.8\n",
      "22    3.8\n",
      "18    6.1\n",
      "15    8.9\n"
     ]
    }
   ],
   "source": [
    "print(test_x) #Testing data in hours\n",
    "pred_y=lin.predict(test_x) #projection of scores"
   ]
  },
  {
   "cell_type": "code",
   "execution_count": 36,
   "id": "356a8007",
   "metadata": {},
   "outputs": [
    {
     "data": {
      "text/html": [
       "<div>\n",
       "<style scoped>\n",
       "    .dataframe tbody tr th:only-of-type {\n",
       "        vertical-align: middle;\n",
       "    }\n",
       "\n",
       "    .dataframe tbody tr th {\n",
       "        vertical-align: top;\n",
       "    }\n",
       "\n",
       "    .dataframe thead th {\n",
       "        text-align: right;\n",
       "    }\n",
       "</style>\n",
       "<table border=\"1\" class=\"dataframe\">\n",
       "  <thead>\n",
       "    <tr style=\"text-align: right;\">\n",
       "      <th></th>\n",
       "      <th>Actual</th>\n",
       "      <th>predicted</th>\n",
       "    </tr>\n",
       "  </thead>\n",
       "  <tbody>\n",
       "    <tr>\n",
       "      <th>5</th>\n",
       "      <td>20</td>\n",
       "      <td>17.097967</td>\n",
       "    </tr>\n",
       "    <tr>\n",
       "      <th>21</th>\n",
       "      <td>54</td>\n",
       "      <td>48.783639</td>\n",
       "    </tr>\n",
       "    <tr>\n",
       "      <th>22</th>\n",
       "      <td>35</td>\n",
       "      <td>39.181920</td>\n",
       "    </tr>\n",
       "    <tr>\n",
       "      <th>18</th>\n",
       "      <td>67</td>\n",
       "      <td>61.265873</td>\n",
       "    </tr>\n",
       "    <tr>\n",
       "      <th>15</th>\n",
       "      <td>95</td>\n",
       "      <td>88.150686</td>\n",
       "    </tr>\n",
       "  </tbody>\n",
       "</table>\n",
       "</div>"
      ],
      "text/plain": [
       "    Actual  predicted\n",
       "5       20  17.097967\n",
       "21      54  48.783639\n",
       "22      35  39.181920\n",
       "18      67  61.265873\n",
       "15      95  88.150686"
      ]
     },
     "execution_count": 36,
     "metadata": {},
     "output_type": "execute_result"
    }
   ],
   "source": [
    "# comparing Actual and Predicted\n",
    "\n",
    "df_compare= pd.DataFrame({'Actual':test_y,'predicted':pred_y})\n",
    "df_compare"
   ]
  },
  {
   "cell_type": "code",
   "execution_count": 38,
   "id": "a588c60e",
   "metadata": {},
   "outputs": [
    {
     "name": "stdout",
     "output_type": "stream",
     "text": [
      "For number of hours [9.25], predicted score is[91.51128762]\n"
     ]
    },
    {
     "name": "stderr",
     "output_type": "stream",
     "text": [
      "C:\\Users\\manvi_mgzmezo\\anaconda3\\lib\\site-packages\\sklearn\\base.py:420: UserWarning: X does not have valid feature names, but LinearRegression was fitted with feature names\n",
      "  warnings.warn(\n"
     ]
    }
   ],
   "source": [
    "#using the particular value of Hours studied\n",
    "hours= [9.25]\n",
    "value=lin.predict([hours])\n",
    "print('For number of hours {}, predicted score is{}'.format(hours,value))"
   ]
  },
  {
   "cell_type": "markdown",
   "id": "47df7e6f",
   "metadata": {},
   "source": [
    "### Accuracy of the model"
   ]
  },
  {
   "cell_type": "markdown",
   "id": "0cadfa34",
   "metadata": {},
   "source": [
    "#### The final step is to evaluate the performance of algorithm. This step is important to compare how well different algorithms perform on a partcular dataset."
   ]
  },
  {
   "cell_type": "code",
   "execution_count": 39,
   "id": "6df46c42",
   "metadata": {},
   "outputs": [
    {
     "name": "stdout",
     "output_type": "stream",
     "text": [
      "Mean_squared_error= 26.582796488881087, r2 Score=0.9605221627526419\n"
     ]
    }
   ],
   "source": [
    "print('Mean_squared_error= {}, r2 Score={}'.format(mean_squared_error(test_y,pred_y),r2_score(test_y,pred_y)))"
   ]
  },
  {
   "cell_type": "markdown",
   "id": "2f3f1a32",
   "metadata": {},
   "source": [
    "## R^2=0.9605"
   ]
  },
  {
   "cell_type": "markdown",
   "id": "fe83c7a0",
   "metadata": {},
   "source": [
    "### This indicates 96% proportion of the variance for percentage scores is explained by study hours."
   ]
  },
  {
   "cell_type": "code",
   "execution_count": null,
   "id": "041ffcea",
   "metadata": {},
   "outputs": [],
   "source": []
  }
 ],
 "metadata": {
  "kernelspec": {
   "display_name": "Python 3 (ipykernel)",
   "language": "python",
   "name": "python3"
  },
  "language_info": {
   "codemirror_mode": {
    "name": "ipython",
    "version": 3
   },
   "file_extension": ".py",
   "mimetype": "text/x-python",
   "name": "python",
   "nbconvert_exporter": "python",
   "pygments_lexer": "ipython3",
   "version": "3.10.9"
  }
 },
 "nbformat": 4,
 "nbformat_minor": 5
}
